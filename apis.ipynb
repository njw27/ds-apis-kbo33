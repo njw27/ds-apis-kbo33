{
 "cells": [
  {
   "cell_type": "markdown",
   "metadata": {
    "toc": true
   },
   "source": [
    "<h1>Table of Contents<span class=\"tocSkip\"></span></h1>\n",
    "<div class=\"toc\"><ul class=\"toc-item\"><li><span><a href=\"#Objectives\" data-toc-modified-id=\"Objectives-1\"><span class=\"toc-item-num\">1&nbsp;&nbsp;</span>Objectives</a></span></li><li><span><a href=\"#APIs\" data-toc-modified-id=\"APIs-2\"><span class=\"toc-item-num\">2&nbsp;&nbsp;</span>APIs</a></span><ul class=\"toc-item\"><li><span><a href=\"#Overview-of-APIs\" data-toc-modified-id=\"Overview-of-APIs-2.1\"><span class=\"toc-item-num\">2.1&nbsp;&nbsp;</span>Overview of APIs</a></span><ul class=\"toc-item\"><li><span><a href=\"#Parts-on-an-API\" data-toc-modified-id=\"Parts-on-an-API-2.1.1\"><span class=\"toc-item-num\">2.1.1&nbsp;&nbsp;</span>Parts on an API</a></span></li></ul></li><li><span><a href=\"#The-requests-Library-and-its-.get()-Method\" data-toc-modified-id=\"The-requests-Library-and-its-.get()-Method-2.2\"><span class=\"toc-item-num\">2.2&nbsp;&nbsp;</span>The <code>requests</code> Library and its <code>.get()</code> Method</a></span></li><li><span><a href=\"#Parsing-JSON-Responses\" data-toc-modified-id=\"Parsing-JSON-Responses-2.3\"><span class=\"toc-item-num\">2.3&nbsp;&nbsp;</span>Parsing JSON Responses</a></span></li><li><span><a href=\"#Status-Codes\" data-toc-modified-id=\"Status-Codes-2.4\"><span class=\"toc-item-num\">2.4&nbsp;&nbsp;</span>Status Codes</a></span><ul class=\"toc-item\"><li><span><a href=\"#Common-status-codes\" data-toc-modified-id=\"Common-status-codes-2.4.1\"><span class=\"toc-item-num\">2.4.1&nbsp;&nbsp;</span>Common status codes</a></span></li><li><span><a href=\"#Hitting-the-right-endpoint\" data-toc-modified-id=\"Hitting-the-right-endpoint-2.4.2\"><span class=\"toc-item-num\">2.4.2&nbsp;&nbsp;</span>Hitting the right endpoint</a></span></li></ul></li><li><span><a href=\"#Query-Parameters\" data-toc-modified-id=\"Query-Parameters-2.5\"><span class=\"toc-item-num\">2.5&nbsp;&nbsp;</span>Query Parameters</a></span></li></ul></li><li><span><a href=\"#Secure-APIs:-Generating-Access-Tokens\" data-toc-modified-id=\"Secure-APIs:-Generating-Access-Tokens-3\"><span class=\"toc-item-num\">3&nbsp;&nbsp;</span>Secure APIs: Generating Access Tokens</a></span><ul class=\"toc-item\"><li><span><a href=\"#An-Example-Request-with-OAuth\" data-toc-modified-id=\"An-Example-Request-with-OAuth-3.1\"><span class=\"toc-item-num\">3.1&nbsp;&nbsp;</span>An Example Request with OAuth</a></span></li><li><span><a href=\"#Storing-your-API-Key-Securely\" data-toc-modified-id=\"Storing-your-API-Key-Securely-3.2\"><span class=\"toc-item-num\">3.2&nbsp;&nbsp;</span>Storing your API Key Securely</a></span><ul class=\"toc-item\"><li><span><a href=\"#Step-1---Create-a-hidden-.secrets-folder-in-your-repository\" data-toc-modified-id=\"Step-1---Create-a-hidden-.secrets-folder-in-your-repository-3.2.1\"><span class=\"toc-item-num\">3.2.1&nbsp;&nbsp;</span>Step 1 - Create a hidden <code>.secrets</code> folder in your repository</a></span></li><li><span><a href=\"#Step-2---Put-your-credentials-in-a-file-in-the-.secrets-folder\" data-toc-modified-id=\"Step-2---Put-your-credentials-in-a-file-in-the-.secrets-folder-3.2.2\"><span class=\"toc-item-num\">3.2.2&nbsp;&nbsp;</span>Step 2 - Put your credentials in a file in the <code>.secrets</code> folder</a></span></li><li><span><a href=\"#Step-3---Add-the-.secrets/-folder-to-the-.gitignore-file\" data-toc-modified-id=\"Step-3---Add-the-.secrets/-folder-to-the-.gitignore-file-3.2.3\"><span class=\"toc-item-num\">3.2.3&nbsp;&nbsp;</span>Step 3 - Add the <code>.secrets/</code> folder to the <code>.gitignore</code> file</a></span></li><li><span><a href=\"#Check-If-It-Worked!\" data-toc-modified-id=\"Check-If-It-Worked!-3.2.4\"><span class=\"toc-item-num\">3.2.4&nbsp;&nbsp;</span>Check If It Worked!</a></span></li></ul></li><li><span><a href=\"#Making-our-Request\" data-toc-modified-id=\"Making-our-Request-3.3\"><span class=\"toc-item-num\">3.3&nbsp;&nbsp;</span>Making our Request</a></span></li><li><span><a href=\"#Breaking-Down-the-Request\" data-toc-modified-id=\"Breaking-Down-the-Request-3.4\"><span class=\"toc-item-num\">3.4&nbsp;&nbsp;</span>Breaking Down the Request</a></span></li><li><span><a href=\"#The-Response\" data-toc-modified-id=\"The-Response-3.5\"><span class=\"toc-item-num\">3.5&nbsp;&nbsp;</span>The Response</a></span></li></ul></li></ul></div>"
   ]
  },
  {
   "cell_type": "markdown",
   "metadata": {},
   "source": [
    "![](images/slurping_thru_api.jpeg)"
   ]
  },
  {
   "cell_type": "markdown",
   "metadata": {},
   "source": [
    "> Created by [@siscadraws](https://www.instagram.com/siscadraws/)"
   ]
  },
  {
   "cell_type": "code",
   "execution_count": 2,
   "metadata": {},
   "outputs": [],
   "source": [
    "import pandas as pd\n",
    "import requests\n",
    "import json"
   ]
  },
  {
   "cell_type": "markdown",
   "metadata": {
    "heading_collapsed": true
   },
   "source": [
    "# Objectives"
   ]
  },
  {
   "cell_type": "markdown",
   "metadata": {
    "hidden": true
   },
   "source": [
    "* Send requests and receive responses over the web\n",
    "* Retrieve data from APIs using the `requests` library\n",
    "* Parse API responses"
   ]
  },
  {
   "cell_type": "markdown",
   "metadata": {
    "heading_collapsed": true
   },
   "source": [
    "# APIs"
   ]
  },
  {
   "cell_type": "markdown",
   "metadata": {
    "hidden": true
   },
   "source": [
    "The term **Application Program Interfaces**, or APIs, is exceedingly general. It applies to any interaction between applications or between an application and a user. One might speak of the \"matplotlib API\" to describe proper plotting syntax but also of APIs that govern the interaction between various steps of a data pipeline: between a database server and a remote client, between a local machine and a cloud storage bucket, etc.\n",
    "\n",
    "APIs are commonly used to retrieve data from remote websites. Sites like Reddit, Twitter, and Facebook all offer certain data through their APIs. "
   ]
  },
  {
   "cell_type": "markdown",
   "metadata": {
    "heading_collapsed": true,
    "hidden": true
   },
   "source": [
    "## Overview of APIs"
   ]
  },
  {
   "cell_type": "markdown",
   "metadata": {
    "hidden": true
   },
   "source": [
    "An API communicates with another application:\n",
    "\n",
    "* Send request (with some info/data)\n",
    "* Get response\n",
    "    + data\n",
    "    + service\n",
    "\n",
    "\n",
    "It's always a software-to-software interaction"
   ]
  },
  {
   "cell_type": "markdown",
   "metadata": {
    "hidden": true
   },
   "source": [
    "![](images/web_api.png)\n",
    "> <a href=\"https://commons.wikimedia.org/wiki/File:Web_API.png\">Brivadeneira</a>, <a href=\"https://creativecommons.org/licenses/by-sa/4.0\">CC BY-SA 4.0</a>, via Wikimedia Commons"
   ]
  },
  {
   "cell_type": "markdown",
   "metadata": {
    "heading_collapsed": true,
    "hidden": true
   },
   "source": [
    "### Parts of an API"
   ]
  },
  {
   "cell_type": "markdown",
   "metadata": {
    "hidden": true
   },
   "source": [
    "* **Access Permissions**\n",
    "    + User allowed to ask?\n",
    "* **API Call/Request**\n",
    "    + Code used to make API call to implement complicated tasks/features\n",
    "    + *Methods*: what questions can we ask?\n",
    "    + *Parameters*: more info to be sent\n",
    "* **Repsonse**\n",
    "    + Result of request"
   ]
  },
  {
   "cell_type": "markdown",
   "metadata": {
    "heading_collapsed": true,
    "hidden": true
   },
   "source": [
    "## The `requests` Library and its `.get()` Method"
   ]
  },
  {
   "cell_type": "markdown",
   "metadata": {
    "hidden": true
   },
   "source": [
    "![](images/logo.png)"
   ]
  },
  {
   "cell_type": "markdown",
   "metadata": {
    "hidden": true
   },
   "source": [
    "To use an API, you make a request to a remote web server, and retrieve the data you need.\n",
    "\n",
    "We'll use the `requests` library to access web locations."
   ]
  },
  {
   "cell_type": "markdown",
   "metadata": {
    "hidden": true
   },
   "source": [
    "Below is how you would install and import the requests library before making any requests. \n",
    "```python\n",
    "# Uncomment and install requests if you dont have it already\n",
    "# conda install -c anaconda requests\n",
    "\n",
    "# Import requests to working environment\n",
    "import requests\n",
    "```"
   ]
  },
  {
   "cell_type": "markdown",
   "metadata": {
    "hidden": true
   },
   "source": [
    "-------"
   ]
  },
  {
   "cell_type": "markdown",
   "metadata": {
    "hidden": true
   },
   "source": [
    "Now that we have `requests` library ready in our working environment, we can start making some requests using the `.get()` method as shown below.\n",
    "\n",
    "We can use a GET request to retrieve information from the OpenNotify API."
   ]
  },
  {
   "cell_type": "code",
   "execution_count": 3,
   "metadata": {
    "hidden": true
   },
   "outputs": [],
   "source": [
    "# Make a get request to get the latest position of the\n",
    "# International Space Station (ISS) from the opennotify api.\n",
    "\n",
    "url = 'http://api.open-notify.org/iss-now.json'\n",
    "iss_response = requests.get(url)"
   ]
  },
  {
   "cell_type": "markdown",
   "metadata": {
    "hidden": true
   },
   "source": [
    "This creates a `Response` object containing the response that we received"
   ]
  },
  {
   "cell_type": "code",
   "execution_count": 5,
   "metadata": {
    "hidden": true
   },
   "outputs": [
    {
     "data": {
      "text/plain": [
       "requests.models.Response"
      ]
     },
     "execution_count": 5,
     "metadata": {},
     "output_type": "execute_result"
    }
   ],
   "source": [
    "type(iss_response)"
   ]
  },
  {
   "cell_type": "markdown",
   "metadata": {
    "hidden": true
   },
   "source": [
    "The `Response` object contains a bunch of information about the response we got from the server. For example, it includes the status code, which can be helpful for diagnosing request issues. 200 means OK - we'll discuss others later."
   ]
  },
  {
   "cell_type": "code",
   "execution_count": 6,
   "metadata": {
    "hidden": true
   },
   "outputs": [
    {
     "data": {
      "text/plain": [
       "200"
      ]
     },
     "execution_count": 6,
     "metadata": {},
     "output_type": "execute_result"
    }
   ],
   "source": [
    "iss_response.status_code"
   ]
  },
  {
   "cell_type": "markdown",
   "metadata": {
    "hidden": true
   },
   "source": [
    "The `Response` object also contains the data received from our request in the `content` attribute. "
   ]
  },
  {
   "cell_type": "code",
   "execution_count": 7,
   "metadata": {
    "hidden": true
   },
   "outputs": [
    {
     "data": {
      "text/plain": [
       "b'{\"message\": \"success\", \"timestamp\": 1643041478, \"iss_position\": {\"longitude\": \"168.7600\", \"latitude\": \"-33.5279\"}}'"
      ]
     },
     "execution_count": 7,
     "metadata": {},
     "output_type": "execute_result"
    }
   ],
   "source": [
    "iss_response.content"
   ]
  },
  {
   "cell_type": "markdown",
   "metadata": {
    "heading_collapsed": true,
    "hidden": true
   },
   "source": [
    "## Parsing JSON Responses"
   ]
  },
  {
   "cell_type": "markdown",
   "metadata": {
    "hidden": true
   },
   "source": [
    "OpenNotify has several API **endpoints**. An endpoint is a server route that is used to retrieve different data from the API. For example, the `/comments` endpoint on the Reddit API might retrieve information about comments, whereas the `/users` endpoint might retrieve data about users. To access them, you would add the endpoint to the base url of the API."
   ]
  },
  {
   "cell_type": "code",
   "execution_count": 8,
   "metadata": {
    "hidden": true
   },
   "outputs": [
    {
     "name": "stdout",
     "output_type": "stream",
     "text": [
      "200\n"
     ]
    }
   ],
   "source": [
    "# Let's check out who is in space right now!\n",
    "\n",
    "url = 'http://api.open-notify.org/astros.json'\n",
    "astro_response = requests.get(url)\n",
    "print(astro_response.status_code)"
   ]
  },
  {
   "cell_type": "code",
   "execution_count": 11,
   "metadata": {
    "hidden": true
   },
   "outputs": [
    {
     "data": {
      "text/plain": [
       "b'{\"people\": [{\"craft\": \"ISS\", \"name\": \"Mark Vande Hei\"}, {\"craft\": \"ISS\", \"name\": \"Pyotr Dubrov\"}, {\"craft\": \"ISS\", \"name\": \"Anton Shkaplerov\"}, {\"craft\": \"Shenzhou 13\", \"name\": \"Zhai Zhigang\"}, {\"craft\": \"Shenzhou 13\", \"name\": \"Wang Yaping\"}, {\"craft\": \"Shenzhou 13\", \"name\": \"Ye Guangfu\"}, {\"craft\": \"ISS\", \"name\": \"Raja Chari\"}, {\"craft\": \"ISS\", \"name\": \"Tom Marshburn\"}, {\"craft\": \"ISS\", \"name\": \"Kayla Barron\"}, {\"craft\": \"ISS\", \"name\": \"Matthias Maurer\"}], \"message\": \"success\", \"number\": 10}'"
      ]
     },
     "execution_count": 11,
     "metadata": {},
     "output_type": "execute_result"
    }
   ],
   "source": [
    "astro_response.content"
   ]
  },
  {
   "cell_type": "markdown",
   "metadata": {
    "hidden": true
   },
   "source": [
    "See the `b'` at the beginning? The `content` is stored in a \"byte literal\" format, not a Python dictionary."
   ]
  },
  {
   "cell_type": "code",
   "execution_count": 12,
   "metadata": {
    "hidden": true
   },
   "outputs": [
    {
     "data": {
      "text/plain": [
       "bytes"
      ]
     },
     "execution_count": 12,
     "metadata": {},
     "output_type": "execute_result"
    }
   ],
   "source": [
    "type(astro_response.content)"
   ]
  },
  {
   "cell_type": "markdown",
   "metadata": {
    "hidden": true
   },
   "source": [
    "We can look at the `text` attribute instead, but this still gives us a string, not a dictionary."
   ]
  },
  {
   "cell_type": "code",
   "execution_count": 13,
   "metadata": {
    "hidden": true
   },
   "outputs": [
    {
     "data": {
      "text/plain": [
       "'{\"people\": [{\"craft\": \"ISS\", \"name\": \"Mark Vande Hei\"}, {\"craft\": \"ISS\", \"name\": \"Pyotr Dubrov\"}, {\"craft\": \"ISS\", \"name\": \"Anton Shkaplerov\"}, {\"craft\": \"Shenzhou 13\", \"name\": \"Zhai Zhigang\"}, {\"craft\": \"Shenzhou 13\", \"name\": \"Wang Yaping\"}, {\"craft\": \"Shenzhou 13\", \"name\": \"Ye Guangfu\"}, {\"craft\": \"ISS\", \"name\": \"Raja Chari\"}, {\"craft\": \"ISS\", \"name\": \"Tom Marshburn\"}, {\"craft\": \"ISS\", \"name\": \"Kayla Barron\"}, {\"craft\": \"ISS\", \"name\": \"Matthias Maurer\"}], \"message\": \"success\", \"number\": 10}'"
      ]
     },
     "execution_count": 13,
     "metadata": {},
     "output_type": "execute_result"
    }
   ],
   "source": [
    "astro_response.text"
   ]
  },
  {
   "cell_type": "code",
   "execution_count": 14,
   "metadata": {
    "hidden": true
   },
   "outputs": [
    {
     "name": "stdout",
     "output_type": "stream",
     "text": [
      "{\"people\": [{\"craft\": \"ISS\", \"name\": \"Mark Vande Hei\"}, {\"craft\": \"ISS\", \"name\": \"Pyotr Dubrov\"}, {\"craft\": \"ISS\", \"name\": \"Anton Shkaplerov\"}, {\"craft\": \"Shenzhou 13\", \"name\": \"Zhai Zhigang\"}, {\"craft\": \"Shenzhou 13\", \"name\": \"Wang Yaping\"}, {\"craft\": \"Shenzhou 13\", \"name\": \"Ye Guangfu\"}, {\"craft\": \"ISS\", \"name\": \"Raja Chari\"}, {\"craft\": \"ISS\", \"name\": \"Tom Marshburn\"}, {\"craft\": \"ISS\", \"name\": \"Kayla Barron\"}, {\"craft\": \"ISS\", \"name\": \"Matthias Maurer\"}], \"message\": \"success\", \"number\": 10}\n",
      "<class 'str'>\n"
     ]
    }
   ],
   "source": [
    "print(astro_response.text)\n",
    "print(type(astro_response.text))"
   ]
  },
  {
   "cell_type": "markdown",
   "metadata": {
    "hidden": true
   },
   "source": [
    "To address this, we will use the `.json()` method to get a dictionary we can work with."
   ]
  },
  {
   "cell_type": "code",
   "execution_count": 15,
   "metadata": {
    "hidden": true
   },
   "outputs": [
    {
     "data": {
      "text/plain": [
       "dict_keys(['people', 'message', 'number'])"
      ]
     },
     "execution_count": 15,
     "metadata": {},
     "output_type": "execute_result"
    }
   ],
   "source": [
    "astro_data = astro_response.json()\n",
    "astro_data.keys()"
   ]
  },
  {
   "cell_type": "markdown",
   "metadata": {
    "heading_collapsed": true,
    "hidden": true
   },
   "source": [
    "## Status Codes"
   ]
  },
  {
   "cell_type": "markdown",
   "metadata": {
    "hidden": true
   },
   "source": [
    "The request we make may not always be successful. The best way is to check the status code which gets returned with the response: `response.status_code`"
   ]
  },
  {
   "cell_type": "code",
   "execution_count": 16,
   "metadata": {
    "hidden": true
   },
   "outputs": [
    {
     "data": {
      "text/plain": [
       "200"
      ]
     },
     "execution_count": 16,
     "metadata": {},
     "output_type": "execute_result"
    }
   ],
   "source": [
    "astro_response.status_code"
   ]
  },
  {
   "cell_type": "markdown",
   "metadata": {
    "hidden": true
   },
   "source": [
    "[Status Code Info](https://developer.mozilla.org/en-US/docs/Web/HTTP/Status) <br/>\n",
    "[Status Code Info with Dogs](https://httpstatusdogs.com/) <br/>\n",
    "[Wikipedia on Status Codes](https://en.wikipedia.org/wiki/List_of_HTTP_status_codes)\n",
    "\n",
    "So this is a good check to see if our request was successful. Depending on the status of the web server, the access rights of the clients and availibility of requested information. A web server may return a number of status codes within the response. Wikipedia has an exhaustive details on all these codes."
   ]
  },
  {
   "cell_type": "markdown",
   "metadata": {
    "heading_collapsed": true,
    "hidden": true
   },
   "source": [
    "### Common status codes"
   ]
  },
  {
   "cell_type": "markdown",
   "metadata": {
    "hidden": true
   },
   "source": [
    "* 200 — everything went okay, and the result has been returned (if any)\n",
    "* 301 — the server is redirecting you to a different endpoint. This can happen when a company switches domain names, or an endpoint name is changed.\n",
    "* 401 — the server thinks you’re not authenticated. This happens when you don’t send the right credentials to access an API.\n",
    "* 400 — the server thinks you made a bad request. This can happen when you don’t send along the right data, among other things.\n",
    "* 403 — the resource you’re trying to access is forbidden — you don’t have the right permissions to see it.\n",
    "* 404 — the resource you tried to access wasn’t found on the server."
   ]
  },
  {
   "cell_type": "markdown",
   "metadata": {
    "heading_collapsed": true,
    "hidden": true
   },
   "source": [
    "### Hitting the right endpoint"
   ]
  },
  {
   "cell_type": "markdown",
   "metadata": {
    "hidden": true
   },
   "source": [
    "We’ll now make a GET request to http://api.open-notify.org/iss-pass.json."
   ]
  },
  {
   "cell_type": "code",
   "execution_count": 17,
   "metadata": {
    "hidden": true
   },
   "outputs": [
    {
     "data": {
      "text/plain": [
       "400"
      ]
     },
     "execution_count": 17,
     "metadata": {},
     "output_type": "execute_result"
    }
   ],
   "source": [
    "iss_pass_url = 'http://api.open-notify.org/iss-pass.json'\n",
    "response = requests.get(iss_pass_url)\n",
    "response.status_code"
   ]
  },
  {
   "cell_type": "markdown",
   "metadata": {
    "hidden": true
   },
   "source": [
    "We can look at `content` to see if the server told us why there was a problem."
   ]
  },
  {
   "cell_type": "code",
   "execution_count": 18,
   "metadata": {
    "hidden": true
   },
   "outputs": [
    {
     "data": {
      "text/plain": [
       "b'{\\n  \"message\": \"failure\", \\n  \"reason\": \"Latitude must be specified\"\\n}\\n'"
      ]
     },
     "execution_count": 18,
     "metadata": {},
     "output_type": "execute_result"
    }
   ],
   "source": [
    "response.content"
   ]
  },
  {
   "cell_type": "markdown",
   "metadata": {
    "heading_collapsed": true,
    "hidden": true
   },
   "source": [
    "## Query Parameters"
   ]
  },
  {
   "cell_type": "markdown",
   "metadata": {
    "hidden": true
   },
   "source": [
    "If you look at the [documentation](https://web.archive.org/web/20201224141953/http://open-notify.org/Open-Notify-API/ISS-Pass-Times/), we see that the ISS Pass endpoint requires two parameters.\n",
    "\n",
    "We can do this by adding an optional keyword argument, params, to our request. In this case, there are two parameters we need to pass:\n",
    "\n",
    "* lat — The latitude of the location we want.\n",
    "* lon — The longitude of the location we want.\n",
    "\n",
    "We can make a dictionary with these parameters, and then pass them into the `requests.get()` method. We’ll make a request using the coordinates of New York City, and see what response we get.\n",
    "\n",
    "We can also add the query parameters to the url, like this: http://api.open-notify.org/iss-pass.json?lat=47.6&lon=-122.3. However, it’s almost always preferable to pass the parameters as a dictionary, because `requests` takes care of some potential issues, like properly formatting the query parameters."
   ]
  },
  {
   "cell_type": "markdown",
   "metadata": {
    "hidden": true
   },
   "source": [
    "We'll add parameters to the get method in the form of a dictionary with two keys, lat and long."
   ]
  },
  {
   "cell_type": "code",
   "execution_count": 19,
   "metadata": {
    "hidden": true
   },
   "outputs": [
    {
     "name": "stdout",
     "output_type": "stream",
     "text": [
      "{\n",
      "  \"message\": \"success\", \n",
      "  \"request\": {\n",
      "    \"altitude\": 100, \n",
      "    \"datetime\": 1643041299, \n",
      "    \"latitude\": 40.7, \n",
      "    \"longitude\": -74.0, \n",
      "    \"passes\": 5\n",
      "  }, \n",
      "  \"response\": [\n",
      "    {\n",
      "      \"duration\": 606, \n",
      "      \"risetime\": 1643055154\n",
      "    }, \n",
      "    {\n",
      "      \"duration\": 639, \n",
      "      \"risetime\": 1643060935\n",
      "    }, \n",
      "    {\n",
      "      \"duration\": 570, \n",
      "      \"risetime\": 1643066817\n",
      "    }, \n",
      "    {\n",
      "      \"duration\": 570, \n",
      "      \"risetime\": 1643072686\n",
      "    }, \n",
      "    {\n",
      "      \"duration\": 641, \n",
      "      \"risetime\": 1643078499\n",
      "    }\n",
      "  ]\n",
      "}\n",
      "\n"
     ]
    }
   ],
   "source": [
    "# Our code here\n",
    "\n",
    "response = requests.get(iss_pass_url,\n",
    "            params={'lat': 40.7, 'lon': -74})\n",
    "\n",
    "# Print the content of the response (the data the server returned)\n",
    "\n",
    "print(response.text)\n",
    "\n",
    "# This gets the same data as the command above:\n",
    "# requests.get(\"http://api.open-notify.org/iss-pass.json?lat=40.71&lon=-74\")"
   ]
  },
  {
   "cell_type": "markdown",
   "metadata": {
    "heading_collapsed": true
   },
   "source": [
    "# Secure APIs: Generating Access Tokens"
   ]
  },
  {
   "cell_type": "markdown",
   "metadata": {
    "hidden": true
   },
   "source": [
    "Many APIs have security measures to make sure their APIs aren't abused. Let's show you how to generate an access token so you can use such secure APIs.\n",
    "\n",
    "Point your browser over to this [yelp page](https://www.yelp.com/developers/v3/manage_app) and start creating an app in order to obtain an api access token:"
   ]
  },
  {
   "cell_type": "markdown",
   "metadata": {
    "hidden": true
   },
   "source": [
    "\n",
    "![](./images/yelp_app.png)"
   ]
  },
  {
   "cell_type": "markdown",
   "metadata": {
    "hidden": true
   },
   "source": [
    "You can either sign in to an existing Yelp account, or create a new one, if needed.\n",
    "\n",
    "On the page you see above, simply fill out some sample information such as \"Flatiron Edu API Example\" for the app name, or whatever floats your boat. Afterwards, you should be presented with an API key that you can use to make requests.\n",
    "\n",
    "With that, it's time to start making some API calls!"
   ]
  },
  {
   "cell_type": "markdown",
   "metadata": {
    "heading_collapsed": true,
    "hidden": true
   },
   "source": [
    "## An Example Request with OAuth "
   ]
  },
  {
   "cell_type": "markdown",
   "metadata": {
    "hidden": true
   },
   "source": [
    "[OAuth](https://en.wikipedia.org/wiki/OAuth) is a common standard used by companies to provide API access. \"Auth\" refers to two processes:\n",
    "\n",
    "* Authentication: Verifying your identity\n",
    "* Authorization: Giving you access to a resource"
   ]
  },
  {
   "cell_type": "markdown",
   "metadata": {
    "heading_collapsed": true,
    "hidden": true
   },
   "source": [
    "## Storing your API Key Securely"
   ]
  },
  {
   "cell_type": "markdown",
   "metadata": {
    "hidden": true
   },
   "source": [
    "Handling your security credentials properly will avoid accidentally exposing them to people who might use them for malicious purposes. While you probably can't get in too much trouble with Yelp, it's a good practice to develop. It becomes especially tricky and important when using public Git repositories. Here are the steps we recommend: \n",
    "\n",
    "1. Create a hidden `.secrets` folder in your repository\n",
    "2. Put your credentials in a file in the `.secrets` folder\n",
    "3. Add the `.secrets/` folder to the `.gitignore` file"
   ]
  },
  {
   "cell_type": "markdown",
   "metadata": {
    "heading_collapsed": true,
    "hidden": true
   },
   "source": [
    "### Step 1 - Create a hidden `.secrets` folder in your repository"
   ]
  },
  {
   "cell_type": "markdown",
   "metadata": {
    "hidden": true
   },
   "source": [
    "> We'll need to create this folder `.secrets`. Note this will create a hidden folder. Also note that we're using this name but it really could be whatever you want it to be as long as you're consistent"
   ]
  },
  {
   "cell_type": "markdown",
   "metadata": {
    "hidden": true
   },
   "source": [
    "You can run this in the terminal (assuming we're in the repo folder)\n",
    "\n",
    "```bash\n",
    "mkdir .secrets\n",
    "```"
   ]
  },
  {
   "cell_type": "code",
   "execution_count": null,
   "metadata": {
    "hidden": true
   },
   "outputs": [],
   "source": [
    "# Let's check we're in the right place\n",
    "!pwd"
   ]
  },
  {
   "cell_type": "code",
   "execution_count": null,
   "metadata": {
    "hidden": true
   },
   "outputs": [],
   "source": [
    "# Now we check if the directory is already made\n",
    "!ls -a"
   ]
  },
  {
   "cell_type": "code",
   "execution_count": null,
   "metadata": {
    "hidden": true
   },
   "outputs": [],
   "source": [
    "# Finally we can make the directory\n",
    "!mkdir .secrets"
   ]
  },
  {
   "cell_type": "code",
   "execution_count": null,
   "metadata": {
    "hidden": true
   },
   "outputs": [],
   "source": [
    "# And we check if the directory is made\n",
    "!ls -a"
   ]
  },
  {
   "cell_type": "markdown",
   "metadata": {
    "heading_collapsed": true,
    "hidden": true
   },
   "source": [
    "### Step 2 - Put your credentials in a file in the `.secrets` folder"
   ]
  },
  {
   "cell_type": "markdown",
   "metadata": {
    "hidden": true
   },
   "source": [
    "> Next we need to create the credentials file and move it into the `.secrets/` folder. It's easiest to do this with the command line (since the folder is hidden)"
   ]
  },
  {
   "cell_type": "markdown",
   "metadata": {
    "hidden": true
   },
   "source": [
    "To create the file, we can simply create a new file using an editor or even Jupyter Notebook."
   ]
  },
  {
   "cell_type": "markdown",
   "metadata": {
    "hidden": true
   },
   "source": [
    "We can also create this with the command line:\n",
    "\n",
    "```shell\n",
    "echo '{ \"id\": \"<ID>\", \"key\": \"<KEY>\" }' > creds.json\n",
    "```\n",
    "\n",
    "Where `<ID>` and  `<KEY>` are the Client ID and API Key respectively. (Note the the values need quotations around it)"
   ]
  },
  {
   "cell_type": "code",
   "execution_count": 41,
   "metadata": {
    "hidden": true
   },
   "outputs": [],
   "source": [
    "# Uncommment and run this after replacing <ID> and <KEY>\n",
    "# Note this will overwrite any previous file called creds.json\n",
    "\n",
    "!echo '{ \"id\": \"4qgQO9Vqapbh1mEbfb5UPA\", \"key\": \"xXPhrsTmAcV1wGew9wNTQDuRmORJHWsTEv6agc5aWjf5fAMqz-HdcSi1IxFA6CriaWlSPZD9Z3x8w0mStHcI5fGHmKx68CcuKrLn4jbkS16D2q5TJS9Cve0HjrvsYXYx\" }' > creds.json"
   ]
  },
  {
   "cell_type": "markdown",
   "metadata": {
    "hidden": true
   },
   "source": [
    "To move the file via the command line, it's easiest if you first move the credentials file into the repo's folder first (if it's not already there).\n",
    "\n",
    "Once you do that, you can run this command below."
   ]
  },
  {
   "cell_type": "code",
   "execution_count": 42,
   "metadata": {
    "hidden": true
   },
   "outputs": [
    {
     "name": "stdout",
     "output_type": "stream",
     "text": [
      "\u001b[34m.\u001b[m\u001b[m                  .gitignore         APIsSlides.pdf     apis.ipynb\r\n",
      "\u001b[34m..\u001b[m\u001b[m                 \u001b[34m.ipynb_checkpoints\u001b[m\u001b[m LICENSE            creds.json\r\n",
      "\u001b[34m.git\u001b[m\u001b[m               \u001b[34m.secrets\u001b[m\u001b[m           README.md          \u001b[34mimages\u001b[m\u001b[m\r\n"
     ]
    }
   ],
   "source": [
    "# Make sure the .secrets folder and credentials file are there\n",
    "!ls -a"
   ]
  },
  {
   "cell_type": "code",
   "execution_count": 43,
   "metadata": {
    "hidden": true
   },
   "outputs": [],
   "source": [
    "# Move the credentials file (creds.json) into the .secrets/ folder\n",
    "# Note you might need to change the name in this command to match the file name\n",
    "!mv creds.json .secrets/"
   ]
  },
  {
   "cell_type": "code",
   "execution_count": 44,
   "metadata": {
    "hidden": true
   },
   "outputs": [
    {
     "name": "stdout",
     "output_type": "stream",
     "text": [
      "\u001b[34m.\u001b[m\u001b[m                  .gitignore         APIsSlides.pdf     apis.ipynb\r\n",
      "\u001b[34m..\u001b[m\u001b[m                 \u001b[34m.ipynb_checkpoints\u001b[m\u001b[m LICENSE            \u001b[34mimages\u001b[m\u001b[m\r\n",
      "\u001b[34m.git\u001b[m\u001b[m               \u001b[34m.secrets\u001b[m\u001b[m           README.md\r\n"
     ]
    }
   ],
   "source": [
    "# Make sure the credentials file are no longer in the repo folder...\n",
    "!ls -a"
   ]
  },
  {
   "cell_type": "code",
   "execution_count": 45,
   "metadata": {
    "hidden": true
   },
   "outputs": [
    {
     "name": "stdout",
     "output_type": "stream",
     "text": [
      "\u001b[34m.\u001b[m\u001b[m          \u001b[34m..\u001b[m\u001b[m         creds.json\r\n"
     ]
    }
   ],
   "source": [
    "# .. and the file should now be in .secrets/\n",
    "!ls -a .secrets/"
   ]
  },
  {
   "cell_type": "markdown",
   "metadata": {
    "heading_collapsed": true,
    "hidden": true
   },
   "source": [
    "### Step 3 - Add the `.secrets/` folder to the `.gitignore` file"
   ]
  },
  {
   "cell_type": "markdown",
   "metadata": {
    "hidden": true
   },
   "source": [
    "> We actually already did this in the current `.gitignore`! But it's good to remember to do this with future projects"
   ]
  },
  {
   "cell_type": "code",
   "execution_count": 46,
   "metadata": {
    "hidden": true,
    "scrolled": true
   },
   "outputs": [
    {
     "name": "stdout",
     "output_type": "stream",
     "text": [
      "\r\n",
      "# Pyre type checker\r\n",
      ".pyre/\r\n",
      "\r\n",
      "# Security keys\r\n",
      ".secrets/\r\n",
      "\r\n",
      "# Mac OSX\r\n",
      ".DS_Store\r\n",
      ".secrets/\r\n"
     ]
    }
   ],
   "source": [
    "# View current .gitignore\n",
    "!tail .gitignore"
   ]
  },
  {
   "cell_type": "markdown",
   "metadata": {
    "hidden": true
   },
   "source": [
    "To add that line to the `.gitignore` file, we can open it in an editor (just remember the file is hidden) or just append to the end of the file like so:"
   ]
  },
  {
   "cell_type": "markdown",
   "metadata": {
    "hidden": true
   },
   "source": [
    "```bash\n",
    "echo \".secrets/\" >> .gitignore\n",
    "```"
   ]
  },
  {
   "cell_type": "markdown",
   "metadata": {
    "heading_collapsed": true,
    "hidden": true
   },
   "source": [
    "### Check If It Worked!"
   ]
  },
  {
   "cell_type": "code",
   "execution_count": 50,
   "metadata": {
    "hidden": true
   },
   "outputs": [],
   "source": [
    "with open('.secrets/creds.json') as f:\n",
    "    creds = json.load(f)"
   ]
  },
  {
   "cell_type": "code",
   "execution_count": 51,
   "metadata": {
    "hidden": true
   },
   "outputs": [
    {
     "data": {
      "text/plain": [
       "{'id': '4qgQO9Vqapbh1mEbfb5UPA',\n",
       " 'key': 'xXPhrsTmAcV1wGew9wNTQDuRmORJHWsTEv6agc5aWjf5fAMqz-HdcSi1IxFA6CriaWlSPZD9Z3x8w0mStHcI5fGHmKx68CcuKrLn4jbkS16D2q5TJS9Cve0HjrvsYXYx'}"
      ]
     },
     "execution_count": 51,
     "metadata": {},
     "output_type": "execute_result"
    }
   ],
   "source": [
    "creds"
   ]
  },
  {
   "cell_type": "markdown",
   "metadata": {
    "heading_collapsed": true,
    "hidden": true
   },
   "source": [
    "## Making our Request"
   ]
  },
  {
   "cell_type": "markdown",
   "metadata": {
    "hidden": true
   },
   "source": [
    "[Yelp API Documentation](https://www.yelp.com/developers/documentation/v3/get_started)\n",
    "\n",
    "Let's look at an example request and dissect it into its consituent parts:"
   ]
  },
  {
   "cell_type": "code",
   "execution_count": 52,
   "metadata": {
    "hidden": true
   },
   "outputs": [
    {
     "name": "stdout",
     "output_type": "stream",
     "text": [
      "200\n"
     ]
    }
   ],
   "source": [
    "url = 'https://api.yelp.com/v3/businesses/search'\n",
    "term = 'Hamburgers'\n",
    "SEARCH_LIMIT = 10\n",
    "headers = {\n",
    "    'Authorization': 'Bearer ' + creds['key']\n",
    "}\n",
    "\n",
    "url_params = {\n",
    "    'term': term,\n",
    "    'location': 'Seattle+WA',\n",
    "    'limit': SEARCH_LIMIT,\n",
    "    'offset': 0\n",
    "}\n",
    "response = requests.get(url, headers=headers, params=url_params)\n",
    "print(response.status_code)"
   ]
  },
  {
   "cell_type": "markdown",
   "metadata": {
    "heading_collapsed": true,
    "hidden": true
   },
   "source": [
    "## Breaking Down the Request"
   ]
  },
  {
   "cell_type": "markdown",
   "metadata": {
    "hidden": true
   },
   "source": [
    "As you can see, there are three main parts to our request.  \n",
    "  \n",
    "They are:\n",
    "* The URL\n",
    "* The header\n",
    "* The parameters\n",
    "  \n",
    "The URL is found in the documentation (`https://api.yelp.com/v3`) and we are using the Business Search endpoint (`/businesses/search`).\n",
    "\n",
    "The header is required by the Yelp API for authorization. It has a strict form where 'Authorization' is the key and 'Bearer YourApiKey' is the value. We make a `header` dictionary to pass into our `.get()` method.\n",
    "\n",
    "The parameters contain information we pass into the query to get the data we want. Valid key parameters by which to structure your queries, are described in the [Yelp API Documentation](https://www.yelp.com/developers/documentation/v3/get_started). We make a `url_params` dictionary to pass into our `.get()` method, which then adds the query parameters to the URL.\n",
    "\n",
    "**Important note re: parameters**: We need to replace spaces with \"+\" - this is a common API requirement because URLs cannot contain spaces. (Note that the header itself isn't directly added into the URL itself and as such, the space between 'Bearer' and YourApiKey is fine.)"
   ]
  },
  {
   "cell_type": "markdown",
   "metadata": {
    "heading_collapsed": true,
    "hidden": true
   },
   "source": [
    "## The Response"
   ]
  },
  {
   "cell_type": "markdown",
   "metadata": {
    "hidden": true
   },
   "source": [
    "As before, our response object has both a status code, as well as the data itself. With that, let's start with a little data exploration!"
   ]
  },
  {
   "cell_type": "code",
   "execution_count": 60,
   "metadata": {
    "hidden": true
   },
   "outputs": [
    {
     "data": {
      "text/plain": [
       "{'businesses': [{'id': 'smOVPL87Q0XHACrVMPa8qw',\n",
       "   'alias': '8oz-burger-and-co-seattle',\n",
       "   'name': '8oz Burger & Co',\n",
       "   'image_url': 'https://s3-media3.fl.yelpcdn.com/bphoto/LnggdyxSd-aVe41dWJF2-Q/o.jpg',\n",
       "   'is_closed': False,\n",
       "   'url': 'https://www.yelp.com/biz/8oz-burger-and-co-seattle?adjust_creative=4qgQO9Vqapbh1mEbfb5UPA&utm_campaign=yelp_api_v3&utm_medium=api_v3_business_search&utm_source=4qgQO9Vqapbh1mEbfb5UPA',\n",
       "   'review_count': 1677,\n",
       "   'categories': [{'alias': 'burgers', 'title': 'Burgers'},\n",
       "    {'alias': 'bars', 'title': 'Bars'},\n",
       "    {'alias': 'icecream', 'title': 'Ice Cream & Frozen Yogurt'}],\n",
       "   'rating': 4.0,\n",
       "   'coordinates': {'latitude': 47.61320990365378,\n",
       "    'longitude': -122.32105000357508},\n",
       "   'transactions': ['delivery', 'pickup'],\n",
       "   'price': '$$',\n",
       "   'location': {'address1': '1401 Broadway',\n",
       "    'address2': None,\n",
       "    'address3': '',\n",
       "    'city': 'Seattle',\n",
       "    'zip_code': '98122',\n",
       "    'country': 'US',\n",
       "    'state': 'WA',\n",
       "    'display_address': ['1401 Broadway', 'Seattle, WA 98122']},\n",
       "   'phone': '+12064665989',\n",
       "   'display_phone': '(206) 466-5989',\n",
       "   'distance': 1737.1562200267515},\n",
       "  {'id': 'xcZZ0Gm81bl8xQfvws231A',\n",
       "   'alias': 'uneeda-burger-seattle',\n",
       "   'name': 'Uneeda Burger',\n",
       "   'image_url': 'https://s3-media3.fl.yelpcdn.com/bphoto/u0Cbd9ccI5TcZXDBhEVAwQ/o.jpg',\n",
       "   'is_closed': False,\n",
       "   'url': 'https://www.yelp.com/biz/uneeda-burger-seattle?adjust_creative=4qgQO9Vqapbh1mEbfb5UPA&utm_campaign=yelp_api_v3&utm_medium=api_v3_business_search&utm_source=4qgQO9Vqapbh1mEbfb5UPA',\n",
       "   'review_count': 1297,\n",
       "   'categories': [{'alias': 'burgers', 'title': 'Burgers'},\n",
       "    {'alias': 'sandwiches', 'title': 'Sandwiches'}],\n",
       "   'rating': 4.0,\n",
       "   'coordinates': {'latitude': 47.65952, 'longitude': -122.34976},\n",
       "   'transactions': ['delivery', 'pickup'],\n",
       "   'price': '$$',\n",
       "   'location': {'address1': '4302 Fremont Ave N',\n",
       "    'address2': '',\n",
       "    'address3': '',\n",
       "    'city': 'Seattle',\n",
       "    'zip_code': '98103',\n",
       "    'country': 'US',\n",
       "    'state': 'WA',\n",
       "    'display_address': ['4302 Fremont Ave N', 'Seattle, WA 98103']},\n",
       "   'phone': '+12065472600',\n",
       "   'display_phone': '(206) 547-2600',\n",
       "   'distance': 3930.4795829547925},\n",
       "  {'id': 'HIQzFuDJ8yDJbA2hymxXgQ',\n",
       "   'alias': 'rain-city-burgers-seattle',\n",
       "   'name': 'Rain City Burgers',\n",
       "   'image_url': 'https://s3-media2.fl.yelpcdn.com/bphoto/ZRC1QYVdTwGvlJcRXveYkA/o.jpg',\n",
       "   'is_closed': False,\n",
       "   'url': 'https://www.yelp.com/biz/rain-city-burgers-seattle?adjust_creative=4qgQO9Vqapbh1mEbfb5UPA&utm_campaign=yelp_api_v3&utm_medium=api_v3_business_search&utm_source=4qgQO9Vqapbh1mEbfb5UPA',\n",
       "   'review_count': 743,\n",
       "   'categories': [{'alias': 'burgers', 'title': 'Burgers'},\n",
       "    {'alias': 'beerbar', 'title': 'Beer Bar'}],\n",
       "   'rating': 4.0,\n",
       "   'coordinates': {'latitude': 47.6759439, 'longitude': -122.3176159},\n",
       "   'transactions': ['delivery', 'pickup'],\n",
       "   'price': '$$',\n",
       "   'location': {'address1': '6501 Roosevelt Way NE',\n",
       "    'address2': None,\n",
       "    'address3': '',\n",
       "    'city': 'Seattle',\n",
       "    'zip_code': '98115',\n",
       "    'country': 'US',\n",
       "    'state': 'WA',\n",
       "    'display_address': ['6501 Roosevelt Way NE', 'Seattle, WA 98115']},\n",
       "   'phone': '+12065253542',\n",
       "   'display_phone': '(206) 525-3542',\n",
       "   'distance': 5775.7881142048245},\n",
       "  {'id': 'aSh2Nz2WoQn6m8g256OxcA',\n",
       "   'alias': 'red-mill-burgers-seattle',\n",
       "   'name': 'Red Mill Burgers',\n",
       "   'image_url': 'https://s3-media2.fl.yelpcdn.com/bphoto/kX9ZsnN8k0MNLsWwJqsAzA/o.jpg',\n",
       "   'is_closed': False,\n",
       "   'url': 'https://www.yelp.com/biz/red-mill-burgers-seattle?adjust_creative=4qgQO9Vqapbh1mEbfb5UPA&utm_campaign=yelp_api_v3&utm_medium=api_v3_business_search&utm_source=4qgQO9Vqapbh1mEbfb5UPA',\n",
       "   'review_count': 1325,\n",
       "   'categories': [{'alias': 'burgers', 'title': 'Burgers'}],\n",
       "   'rating': 4.0,\n",
       "   'coordinates': {'latitude': 47.677847002847, 'longitude': -122.35471520758},\n",
       "   'transactions': ['delivery'],\n",
       "   'price': '$$',\n",
       "   'location': {'address1': '312 N 67th St',\n",
       "    'address2': '',\n",
       "    'address3': '',\n",
       "    'city': 'Seattle',\n",
       "    'zip_code': '98103',\n",
       "    'country': 'US',\n",
       "    'state': 'WA',\n",
       "    'display_address': ['312 N 67th St', 'Seattle, WA 98103']},\n",
       "   'phone': '+12067836362',\n",
       "   'display_phone': '(206) 783-6362',\n",
       "   'distance': 6004.581728693526},\n",
       "  {'id': '3sJI8y8fr9gWpq8Uw_jJ2w',\n",
       "   'alias': '206-burger-company-seattle-6',\n",
       "   'name': '206 Burger Company',\n",
       "   'image_url': 'https://s3-media1.fl.yelpcdn.com/bphoto/YXt-oKOY80ryJrjSi0uFDg/o.jpg',\n",
       "   'is_closed': False,\n",
       "   'url': 'https://www.yelp.com/biz/206-burger-company-seattle-6?adjust_creative=4qgQO9Vqapbh1mEbfb5UPA&utm_campaign=yelp_api_v3&utm_medium=api_v3_business_search&utm_source=4qgQO9Vqapbh1mEbfb5UPA',\n",
       "   'review_count': 36,\n",
       "   'categories': [{'alias': 'burgers', 'title': 'Burgers'}],\n",
       "   'rating': 4.5,\n",
       "   'coordinates': {'latitude': 47.64840314, 'longitude': -122.3554174},\n",
       "   'transactions': ['delivery', 'pickup'],\n",
       "   'location': {'address1': '101 Nickerson St',\n",
       "    'address2': 'Ste 100',\n",
       "    'address3': '',\n",
       "    'city': 'Seattle',\n",
       "    'zip_code': '98109',\n",
       "    'country': 'US',\n",
       "    'state': 'WA',\n",
       "    'display_address': ['101 Nickerson St', 'Ste 100', 'Seattle, WA 98109']},\n",
       "   'phone': '+12064202801',\n",
       "   'display_phone': '(206) 420-2801',\n",
       "   'distance': 2959.125193373209},\n",
       "  {'id': 'x8BFKHu7ajvXLOA0_33bbg',\n",
       "   'alias': 'old-stove-brewing-seattle-3',\n",
       "   'name': 'Old Stove Brewing',\n",
       "   'image_url': 'https://s3-media3.fl.yelpcdn.com/bphoto/d-IJL6kQYrptgcozpyEn4Q/o.jpg',\n",
       "   'is_closed': False,\n",
       "   'url': 'https://www.yelp.com/biz/old-stove-brewing-seattle-3?adjust_creative=4qgQO9Vqapbh1mEbfb5UPA&utm_campaign=yelp_api_v3&utm_medium=api_v3_business_search&utm_source=4qgQO9Vqapbh1mEbfb5UPA',\n",
       "   'review_count': 709,\n",
       "   'categories': [{'alias': 'brewpubs', 'title': 'Brewpubs'},\n",
       "    {'alias': 'seafood', 'title': 'Seafood'},\n",
       "    {'alias': 'burgers', 'title': 'Burgers'}],\n",
       "   'rating': 4.5,\n",
       "   'coordinates': {'latitude': 47.60947174117716,\n",
       "    'longitude': -122.34255894939054},\n",
       "   'transactions': ['delivery', 'pickup'],\n",
       "   'price': '$$',\n",
       "   'location': {'address1': '1901 Western Ave',\n",
       "    'address2': 'Ste A',\n",
       "    'address3': None,\n",
       "    'city': 'Seattle',\n",
       "    'zip_code': '98101',\n",
       "    'country': 'US',\n",
       "    'state': 'WA',\n",
       "    'display_address': ['1901 Western Ave', 'Ste A', 'Seattle, WA 98101']},\n",
       "   'phone': '+12066026120',\n",
       "   'display_phone': '(206) 602-6120',\n",
       "   'distance': 1850.2897834848359},\n",
       "  {'id': 'Lw7NmZ3j-WEye97ywEmkXQ',\n",
       "   'alias': 'vons-1000-spirits-seattle-4',\n",
       "   'name': \"Von's 1000 Spirits\",\n",
       "   'image_url': 'https://s3-media1.fl.yelpcdn.com/bphoto/iUTo8Vc5is6j5dO358VWTg/o.jpg',\n",
       "   'is_closed': False,\n",
       "   'url': 'https://www.yelp.com/biz/vons-1000-spirits-seattle-4?adjust_creative=4qgQO9Vqapbh1mEbfb5UPA&utm_campaign=yelp_api_v3&utm_medium=api_v3_business_search&utm_source=4qgQO9Vqapbh1mEbfb5UPA',\n",
       "   'review_count': 2074,\n",
       "   'categories': [{'alias': 'newamerican', 'title': 'American (New)'},\n",
       "    {'alias': 'burgers', 'title': 'Burgers'},\n",
       "    {'alias': 'pubs', 'title': 'Pubs'}],\n",
       "   'rating': 4.5,\n",
       "   'coordinates': {'latitude': 47.606565, 'longitude': -122.338337},\n",
       "   'transactions': ['delivery', 'pickup'],\n",
       "   'price': '$$',\n",
       "   'location': {'address1': '1225 1st Ave',\n",
       "    'address2': '',\n",
       "    'address3': '',\n",
       "    'city': 'Seattle',\n",
       "    'zip_code': '98101',\n",
       "    'country': 'US',\n",
       "    'state': 'WA',\n",
       "    'display_address': ['1225 1st Ave', 'Seattle, WA 98101']},\n",
       "   'phone': '+12066218667',\n",
       "   'display_phone': '(206) 621-8667',\n",
       "   'distance': 2107.1519004702554},\n",
       "  {'id': 'UhbQIZ9j1p4quRpdPUJ4Xw',\n",
       "   'alias': 'zippys-giant-burgers-seattle',\n",
       "   'name': \"Zippy's Giant Burgers\",\n",
       "   'image_url': 'https://s3-media3.fl.yelpcdn.com/bphoto/jrZbL6J7lDrVAqLg_L8Vsg/o.jpg',\n",
       "   'is_closed': False,\n",
       "   'url': 'https://www.yelp.com/biz/zippys-giant-burgers-seattle?adjust_creative=4qgQO9Vqapbh1mEbfb5UPA&utm_campaign=yelp_api_v3&utm_medium=api_v3_business_search&utm_source=4qgQO9Vqapbh1mEbfb5UPA',\n",
       "   'review_count': 1022,\n",
       "   'categories': [{'alias': 'burgers', 'title': 'Burgers'},\n",
       "    {'alias': 'breakfast_brunch', 'title': 'Breakfast & Brunch'}],\n",
       "   'rating': 4.0,\n",
       "   'coordinates': {'latitude': 47.51685, 'longitude': -122.35244},\n",
       "   'transactions': ['delivery'],\n",
       "   'price': '$$',\n",
       "   'location': {'address1': '9614 14th Ave SW',\n",
       "    'address2': '',\n",
       "    'address3': '',\n",
       "    'city': 'Seattle',\n",
       "    'zip_code': '98106',\n",
       "    'country': 'US',\n",
       "    'state': 'WA',\n",
       "    'display_address': ['9614 14th Ave SW', 'Seattle, WA 98106']},\n",
       "   'phone': '+12067631347',\n",
       "   'display_phone': '(206) 763-1347',\n",
       "   'distance': 12140.23683964044},\n",
       "  {'id': 'vGhCp07VlS85xnyDTPD5bw',\n",
       "   'alias': 'umami-burger-seattle',\n",
       "   'name': 'Umami Burger',\n",
       "   'image_url': 'https://s3-media3.fl.yelpcdn.com/bphoto/OKkP0h86ZSwVrf160m-iVQ/o.jpg',\n",
       "   'is_closed': False,\n",
       "   'url': 'https://www.yelp.com/biz/umami-burger-seattle?adjust_creative=4qgQO9Vqapbh1mEbfb5UPA&utm_campaign=yelp_api_v3&utm_medium=api_v3_business_search&utm_source=4qgQO9Vqapbh1mEbfb5UPA',\n",
       "   'review_count': 9,\n",
       "   'categories': [{'alias': 'burgers', 'title': 'Burgers'}],\n",
       "   'rating': 3.0,\n",
       "   'coordinates': {'latitude': 47.70842, 'longitude': -122.31933},\n",
       "   'transactions': ['delivery', 'pickup'],\n",
       "   'location': {'address1': '825 NE Northgate Way',\n",
       "    'address2': '',\n",
       "    'address3': None,\n",
       "    'city': 'Seattle',\n",
       "    'zip_code': '98125',\n",
       "    'country': 'US',\n",
       "    'state': 'WA',\n",
       "    'display_address': ['825 NE Northgate Way', 'Seattle, WA 98125']},\n",
       "   'phone': '',\n",
       "   'display_phone': '',\n",
       "   'distance': 9236.962727328919},\n",
       "  {'id': 'VSWKoV1zTtjyEXAFJwdeHA',\n",
       "   'alias': 'lil-woodys-seattle',\n",
       "   'name': \"Li'l Woody's\",\n",
       "   'image_url': 'https://s3-media3.fl.yelpcdn.com/bphoto/JhaUuKSlb4_0Apc6-GYCCg/o.jpg',\n",
       "   'is_closed': False,\n",
       "   'url': 'https://www.yelp.com/biz/lil-woodys-seattle?adjust_creative=4qgQO9Vqapbh1mEbfb5UPA&utm_campaign=yelp_api_v3&utm_medium=api_v3_business_search&utm_source=4qgQO9Vqapbh1mEbfb5UPA',\n",
       "   'review_count': 955,\n",
       "   'categories': [{'alias': 'burgers', 'title': 'Burgers'},\n",
       "    {'alias': 'juicebars', 'title': 'Juice Bars & Smoothies'},\n",
       "    {'alias': 'hotdogs', 'title': 'Fast Food'}],\n",
       "   'rating': 3.5,\n",
       "   'coordinates': {'latitude': 47.61495, 'longitude': -122.32818},\n",
       "   'transactions': ['delivery', 'pickup'],\n",
       "   'price': '$$',\n",
       "   'location': {'address1': '1211 Pine St',\n",
       "    'address2': None,\n",
       "    'address3': '',\n",
       "    'city': 'Seattle',\n",
       "    'zip_code': '98101',\n",
       "    'country': 'US',\n",
       "    'state': 'WA',\n",
       "    'display_address': ['1211 Pine St', 'Seattle, WA 98101']},\n",
       "   'phone': '+12064574148',\n",
       "   'display_phone': '(206) 457-4148',\n",
       "   'distance': 1285.9865204947105}],\n",
       " 'total': 240,\n",
       " 'region': {'center': {'longitude': -122.33551025390625,\n",
       "   'latitude': 47.62541904760501}}}"
      ]
     },
     "execution_count": 60,
     "metadata": {},
     "output_type": "execute_result"
    }
   ],
   "source": [
    "response.json()"
   ]
  },
  {
   "cell_type": "code",
   "execution_count": 64,
   "metadata": {
    "hidden": true
   },
   "outputs": [],
   "source": [
    "## Your code here\n",
    "yelp_data = response.json()\n",
    "\n",
    "yelp_df = pd.DataFrame(yelp_data[\"businesses\"])"
   ]
  },
  {
   "cell_type": "markdown",
   "metadata": {
    "hidden": true
   },
   "source": [
    "**Activity**: Make a DataFrame `yelp_df` with the business data from the Yelp response.\n",
    "<details>\n",
    "    <summary>\n",
    "        Answer code\n",
    "    </summary>\n",
    "\n",
    "```python\n",
    "yelp_data = response.json()\n",
    "yelp_df = pd.DataFrame(yelp_data['businesses'])\n",
    "```\n",
    "</details>"
   ]
  },
  {
   "cell_type": "code",
   "execution_count": 65,
   "metadata": {
    "hidden": true
   },
   "outputs": [
    {
     "data": {
      "text/html": [
       "<div>\n",
       "<style scoped>\n",
       "    .dataframe tbody tr th:only-of-type {\n",
       "        vertical-align: middle;\n",
       "    }\n",
       "\n",
       "    .dataframe tbody tr th {\n",
       "        vertical-align: top;\n",
       "    }\n",
       "\n",
       "    .dataframe thead th {\n",
       "        text-align: right;\n",
       "    }\n",
       "</style>\n",
       "<table border=\"1\" class=\"dataframe\">\n",
       "  <thead>\n",
       "    <tr style=\"text-align: right;\">\n",
       "      <th></th>\n",
       "      <th>id</th>\n",
       "      <th>alias</th>\n",
       "      <th>name</th>\n",
       "      <th>image_url</th>\n",
       "      <th>is_closed</th>\n",
       "      <th>url</th>\n",
       "      <th>review_count</th>\n",
       "      <th>categories</th>\n",
       "      <th>rating</th>\n",
       "      <th>coordinates</th>\n",
       "      <th>transactions</th>\n",
       "      <th>price</th>\n",
       "      <th>location</th>\n",
       "      <th>phone</th>\n",
       "      <th>display_phone</th>\n",
       "      <th>distance</th>\n",
       "    </tr>\n",
       "  </thead>\n",
       "  <tbody>\n",
       "    <tr>\n",
       "      <th>0</th>\n",
       "      <td>smOVPL87Q0XHACrVMPa8qw</td>\n",
       "      <td>8oz-burger-and-co-seattle</td>\n",
       "      <td>8oz Burger &amp; Co</td>\n",
       "      <td>https://s3-media3.fl.yelpcdn.com/bphoto/Lnggdy...</td>\n",
       "      <td>False</td>\n",
       "      <td>https://www.yelp.com/biz/8oz-burger-and-co-sea...</td>\n",
       "      <td>1677</td>\n",
       "      <td>[{'alias': 'burgers', 'title': 'Burgers'}, {'a...</td>\n",
       "      <td>4.0</td>\n",
       "      <td>{'latitude': 47.61320990365378, 'longitude': -...</td>\n",
       "      <td>[delivery, pickup]</td>\n",
       "      <td>$$</td>\n",
       "      <td>{'address1': '1401 Broadway', 'address2': None...</td>\n",
       "      <td>+12064665989</td>\n",
       "      <td>(206) 466-5989</td>\n",
       "      <td>1737.156220</td>\n",
       "    </tr>\n",
       "    <tr>\n",
       "      <th>1</th>\n",
       "      <td>xcZZ0Gm81bl8xQfvws231A</td>\n",
       "      <td>uneeda-burger-seattle</td>\n",
       "      <td>Uneeda Burger</td>\n",
       "      <td>https://s3-media3.fl.yelpcdn.com/bphoto/u0Cbd9...</td>\n",
       "      <td>False</td>\n",
       "      <td>https://www.yelp.com/biz/uneeda-burger-seattle...</td>\n",
       "      <td>1297</td>\n",
       "      <td>[{'alias': 'burgers', 'title': 'Burgers'}, {'a...</td>\n",
       "      <td>4.0</td>\n",
       "      <td>{'latitude': 47.65952, 'longitude': -122.34976}</td>\n",
       "      <td>[delivery, pickup]</td>\n",
       "      <td>$$</td>\n",
       "      <td>{'address1': '4302 Fremont Ave N', 'address2':...</td>\n",
       "      <td>+12065472600</td>\n",
       "      <td>(206) 547-2600</td>\n",
       "      <td>3930.479583</td>\n",
       "    </tr>\n",
       "    <tr>\n",
       "      <th>2</th>\n",
       "      <td>HIQzFuDJ8yDJbA2hymxXgQ</td>\n",
       "      <td>rain-city-burgers-seattle</td>\n",
       "      <td>Rain City Burgers</td>\n",
       "      <td>https://s3-media2.fl.yelpcdn.com/bphoto/ZRC1QY...</td>\n",
       "      <td>False</td>\n",
       "      <td>https://www.yelp.com/biz/rain-city-burgers-sea...</td>\n",
       "      <td>743</td>\n",
       "      <td>[{'alias': 'burgers', 'title': 'Burgers'}, {'a...</td>\n",
       "      <td>4.0</td>\n",
       "      <td>{'latitude': 47.6759439, 'longitude': -122.317...</td>\n",
       "      <td>[delivery, pickup]</td>\n",
       "      <td>$$</td>\n",
       "      <td>{'address1': '6501 Roosevelt Way NE', 'address...</td>\n",
       "      <td>+12065253542</td>\n",
       "      <td>(206) 525-3542</td>\n",
       "      <td>5775.788114</td>\n",
       "    </tr>\n",
       "    <tr>\n",
       "      <th>3</th>\n",
       "      <td>aSh2Nz2WoQn6m8g256OxcA</td>\n",
       "      <td>red-mill-burgers-seattle</td>\n",
       "      <td>Red Mill Burgers</td>\n",
       "      <td>https://s3-media2.fl.yelpcdn.com/bphoto/kX9Zsn...</td>\n",
       "      <td>False</td>\n",
       "      <td>https://www.yelp.com/biz/red-mill-burgers-seat...</td>\n",
       "      <td>1325</td>\n",
       "      <td>[{'alias': 'burgers', 'title': 'Burgers'}]</td>\n",
       "      <td>4.0</td>\n",
       "      <td>{'latitude': 47.677847002847, 'longitude': -12...</td>\n",
       "      <td>[delivery]</td>\n",
       "      <td>$$</td>\n",
       "      <td>{'address1': '312 N 67th St', 'address2': '', ...</td>\n",
       "      <td>+12067836362</td>\n",
       "      <td>(206) 783-6362</td>\n",
       "      <td>6004.581729</td>\n",
       "    </tr>\n",
       "    <tr>\n",
       "      <th>4</th>\n",
       "      <td>3sJI8y8fr9gWpq8Uw_jJ2w</td>\n",
       "      <td>206-burger-company-seattle-6</td>\n",
       "      <td>206 Burger Company</td>\n",
       "      <td>https://s3-media1.fl.yelpcdn.com/bphoto/YXt-oK...</td>\n",
       "      <td>False</td>\n",
       "      <td>https://www.yelp.com/biz/206-burger-company-se...</td>\n",
       "      <td>36</td>\n",
       "      <td>[{'alias': 'burgers', 'title': 'Burgers'}]</td>\n",
       "      <td>4.5</td>\n",
       "      <td>{'latitude': 47.64840314, 'longitude': -122.35...</td>\n",
       "      <td>[delivery, pickup]</td>\n",
       "      <td>NaN</td>\n",
       "      <td>{'address1': '101 Nickerson St', 'address2': '...</td>\n",
       "      <td>+12064202801</td>\n",
       "      <td>(206) 420-2801</td>\n",
       "      <td>2959.125193</td>\n",
       "    </tr>\n",
       "  </tbody>\n",
       "</table>\n",
       "</div>"
      ],
      "text/plain": [
       "                       id                         alias                name  \\\n",
       "0  smOVPL87Q0XHACrVMPa8qw     8oz-burger-and-co-seattle     8oz Burger & Co   \n",
       "1  xcZZ0Gm81bl8xQfvws231A         uneeda-burger-seattle       Uneeda Burger   \n",
       "2  HIQzFuDJ8yDJbA2hymxXgQ     rain-city-burgers-seattle   Rain City Burgers   \n",
       "3  aSh2Nz2WoQn6m8g256OxcA      red-mill-burgers-seattle    Red Mill Burgers   \n",
       "4  3sJI8y8fr9gWpq8Uw_jJ2w  206-burger-company-seattle-6  206 Burger Company   \n",
       "\n",
       "                                           image_url  is_closed  \\\n",
       "0  https://s3-media3.fl.yelpcdn.com/bphoto/Lnggdy...      False   \n",
       "1  https://s3-media3.fl.yelpcdn.com/bphoto/u0Cbd9...      False   \n",
       "2  https://s3-media2.fl.yelpcdn.com/bphoto/ZRC1QY...      False   \n",
       "3  https://s3-media2.fl.yelpcdn.com/bphoto/kX9Zsn...      False   \n",
       "4  https://s3-media1.fl.yelpcdn.com/bphoto/YXt-oK...      False   \n",
       "\n",
       "                                                 url  review_count  \\\n",
       "0  https://www.yelp.com/biz/8oz-burger-and-co-sea...          1677   \n",
       "1  https://www.yelp.com/biz/uneeda-burger-seattle...          1297   \n",
       "2  https://www.yelp.com/biz/rain-city-burgers-sea...           743   \n",
       "3  https://www.yelp.com/biz/red-mill-burgers-seat...          1325   \n",
       "4  https://www.yelp.com/biz/206-burger-company-se...            36   \n",
       "\n",
       "                                          categories  rating  \\\n",
       "0  [{'alias': 'burgers', 'title': 'Burgers'}, {'a...     4.0   \n",
       "1  [{'alias': 'burgers', 'title': 'Burgers'}, {'a...     4.0   \n",
       "2  [{'alias': 'burgers', 'title': 'Burgers'}, {'a...     4.0   \n",
       "3         [{'alias': 'burgers', 'title': 'Burgers'}]     4.0   \n",
       "4         [{'alias': 'burgers', 'title': 'Burgers'}]     4.5   \n",
       "\n",
       "                                         coordinates        transactions  \\\n",
       "0  {'latitude': 47.61320990365378, 'longitude': -...  [delivery, pickup]   \n",
       "1    {'latitude': 47.65952, 'longitude': -122.34976}  [delivery, pickup]   \n",
       "2  {'latitude': 47.6759439, 'longitude': -122.317...  [delivery, pickup]   \n",
       "3  {'latitude': 47.677847002847, 'longitude': -12...          [delivery]   \n",
       "4  {'latitude': 47.64840314, 'longitude': -122.35...  [delivery, pickup]   \n",
       "\n",
       "  price                                           location         phone  \\\n",
       "0    $$  {'address1': '1401 Broadway', 'address2': None...  +12064665989   \n",
       "1    $$  {'address1': '4302 Fremont Ave N', 'address2':...  +12065472600   \n",
       "2    $$  {'address1': '6501 Roosevelt Way NE', 'address...  +12065253542   \n",
       "3    $$  {'address1': '312 N 67th St', 'address2': '', ...  +12067836362   \n",
       "4   NaN  {'address1': '101 Nickerson St', 'address2': '...  +12064202801   \n",
       "\n",
       "    display_phone     distance  \n",
       "0  (206) 466-5989  1737.156220  \n",
       "1  (206) 547-2600  3930.479583  \n",
       "2  (206) 525-3542  5775.788114  \n",
       "3  (206) 783-6362  6004.581729  \n",
       "4  (206) 420-2801  2959.125193  "
      ]
     },
     "execution_count": 65,
     "metadata": {},
     "output_type": "execute_result"
    }
   ],
   "source": [
    "yelp_df.head()"
   ]
  },
  {
   "cell_type": "code",
   "execution_count": 66,
   "metadata": {
    "hidden": true
   },
   "outputs": [],
   "source": [
    "## Your code here\n",
    "lat = [float(business['coordinates']['latitude']) for business in yelp_data['businesses']]\n",
    "long = [float(business['coordinates']['longitude']) for  business in yelp_data['businesses']]\n",
    "yelp_df['latitude'] = lat\n",
    "yelp_df['longitude'] = long"
   ]
  },
  {
   "cell_type": "markdown",
   "metadata": {
    "hidden": true
   },
   "source": [
    "**Activity**: Add columns to `yelp_df` containing the latitudes and longitudes.\n",
    "\n",
    "\n",
    "<details>\n",
    "    <summary>\n",
    "        Answer code\n",
    "    </summary>\n",
    "\n",
    "```python\n",
    "lat = [float(business['coordinates']['latitude']) for business in yelp_data['businesses']]\n",
    "long = [float(business['coordinates']['longitude']) for  business in yelp_data['businesses']]\n",
    "yelp_df['lat'] = lat\n",
    "yelp_df['long'] = long\n",
    "```\n",
    "</details>"
   ]
  },
  {
   "cell_type": "code",
   "execution_count": 67,
   "metadata": {
    "hidden": true
   },
   "outputs": [
    {
     "data": {
      "text/html": [
       "<div>\n",
       "<style scoped>\n",
       "    .dataframe tbody tr th:only-of-type {\n",
       "        vertical-align: middle;\n",
       "    }\n",
       "\n",
       "    .dataframe tbody tr th {\n",
       "        vertical-align: top;\n",
       "    }\n",
       "\n",
       "    .dataframe thead th {\n",
       "        text-align: right;\n",
       "    }\n",
       "</style>\n",
       "<table border=\"1\" class=\"dataframe\">\n",
       "  <thead>\n",
       "    <tr style=\"text-align: right;\">\n",
       "      <th></th>\n",
       "      <th>id</th>\n",
       "      <th>alias</th>\n",
       "      <th>name</th>\n",
       "      <th>image_url</th>\n",
       "      <th>is_closed</th>\n",
       "      <th>url</th>\n",
       "      <th>review_count</th>\n",
       "      <th>categories</th>\n",
       "      <th>rating</th>\n",
       "      <th>coordinates</th>\n",
       "      <th>transactions</th>\n",
       "      <th>price</th>\n",
       "      <th>location</th>\n",
       "      <th>phone</th>\n",
       "      <th>display_phone</th>\n",
       "      <th>distance</th>\n",
       "      <th>latitude</th>\n",
       "      <th>longitude</th>\n",
       "    </tr>\n",
       "  </thead>\n",
       "  <tbody>\n",
       "    <tr>\n",
       "      <th>0</th>\n",
       "      <td>smOVPL87Q0XHACrVMPa8qw</td>\n",
       "      <td>8oz-burger-and-co-seattle</td>\n",
       "      <td>8oz Burger &amp; Co</td>\n",
       "      <td>https://s3-media3.fl.yelpcdn.com/bphoto/Lnggdy...</td>\n",
       "      <td>False</td>\n",
       "      <td>https://www.yelp.com/biz/8oz-burger-and-co-sea...</td>\n",
       "      <td>1677</td>\n",
       "      <td>[{'alias': 'burgers', 'title': 'Burgers'}, {'a...</td>\n",
       "      <td>4.0</td>\n",
       "      <td>{'latitude': 47.61320990365378, 'longitude': -...</td>\n",
       "      <td>[delivery, pickup]</td>\n",
       "      <td>$$</td>\n",
       "      <td>{'address1': '1401 Broadway', 'address2': None...</td>\n",
       "      <td>+12064665989</td>\n",
       "      <td>(206) 466-5989</td>\n",
       "      <td>1737.156220</td>\n",
       "      <td>47.613210</td>\n",
       "      <td>-122.321050</td>\n",
       "    </tr>\n",
       "    <tr>\n",
       "      <th>1</th>\n",
       "      <td>xcZZ0Gm81bl8xQfvws231A</td>\n",
       "      <td>uneeda-burger-seattle</td>\n",
       "      <td>Uneeda Burger</td>\n",
       "      <td>https://s3-media3.fl.yelpcdn.com/bphoto/u0Cbd9...</td>\n",
       "      <td>False</td>\n",
       "      <td>https://www.yelp.com/biz/uneeda-burger-seattle...</td>\n",
       "      <td>1297</td>\n",
       "      <td>[{'alias': 'burgers', 'title': 'Burgers'}, {'a...</td>\n",
       "      <td>4.0</td>\n",
       "      <td>{'latitude': 47.65952, 'longitude': -122.34976}</td>\n",
       "      <td>[delivery, pickup]</td>\n",
       "      <td>$$</td>\n",
       "      <td>{'address1': '4302 Fremont Ave N', 'address2':...</td>\n",
       "      <td>+12065472600</td>\n",
       "      <td>(206) 547-2600</td>\n",
       "      <td>3930.479583</td>\n",
       "      <td>47.659520</td>\n",
       "      <td>-122.349760</td>\n",
       "    </tr>\n",
       "    <tr>\n",
       "      <th>2</th>\n",
       "      <td>HIQzFuDJ8yDJbA2hymxXgQ</td>\n",
       "      <td>rain-city-burgers-seattle</td>\n",
       "      <td>Rain City Burgers</td>\n",
       "      <td>https://s3-media2.fl.yelpcdn.com/bphoto/ZRC1QY...</td>\n",
       "      <td>False</td>\n",
       "      <td>https://www.yelp.com/biz/rain-city-burgers-sea...</td>\n",
       "      <td>743</td>\n",
       "      <td>[{'alias': 'burgers', 'title': 'Burgers'}, {'a...</td>\n",
       "      <td>4.0</td>\n",
       "      <td>{'latitude': 47.6759439, 'longitude': -122.317...</td>\n",
       "      <td>[delivery, pickup]</td>\n",
       "      <td>$$</td>\n",
       "      <td>{'address1': '6501 Roosevelt Way NE', 'address...</td>\n",
       "      <td>+12065253542</td>\n",
       "      <td>(206) 525-3542</td>\n",
       "      <td>5775.788114</td>\n",
       "      <td>47.675944</td>\n",
       "      <td>-122.317616</td>\n",
       "    </tr>\n",
       "    <tr>\n",
       "      <th>3</th>\n",
       "      <td>aSh2Nz2WoQn6m8g256OxcA</td>\n",
       "      <td>red-mill-burgers-seattle</td>\n",
       "      <td>Red Mill Burgers</td>\n",
       "      <td>https://s3-media2.fl.yelpcdn.com/bphoto/kX9Zsn...</td>\n",
       "      <td>False</td>\n",
       "      <td>https://www.yelp.com/biz/red-mill-burgers-seat...</td>\n",
       "      <td>1325</td>\n",
       "      <td>[{'alias': 'burgers', 'title': 'Burgers'}]</td>\n",
       "      <td>4.0</td>\n",
       "      <td>{'latitude': 47.677847002847, 'longitude': -12...</td>\n",
       "      <td>[delivery]</td>\n",
       "      <td>$$</td>\n",
       "      <td>{'address1': '312 N 67th St', 'address2': '', ...</td>\n",
       "      <td>+12067836362</td>\n",
       "      <td>(206) 783-6362</td>\n",
       "      <td>6004.581729</td>\n",
       "      <td>47.677847</td>\n",
       "      <td>-122.354715</td>\n",
       "    </tr>\n",
       "    <tr>\n",
       "      <th>4</th>\n",
       "      <td>3sJI8y8fr9gWpq8Uw_jJ2w</td>\n",
       "      <td>206-burger-company-seattle-6</td>\n",
       "      <td>206 Burger Company</td>\n",
       "      <td>https://s3-media1.fl.yelpcdn.com/bphoto/YXt-oK...</td>\n",
       "      <td>False</td>\n",
       "      <td>https://www.yelp.com/biz/206-burger-company-se...</td>\n",
       "      <td>36</td>\n",
       "      <td>[{'alias': 'burgers', 'title': 'Burgers'}]</td>\n",
       "      <td>4.5</td>\n",
       "      <td>{'latitude': 47.64840314, 'longitude': -122.35...</td>\n",
       "      <td>[delivery, pickup]</td>\n",
       "      <td>NaN</td>\n",
       "      <td>{'address1': '101 Nickerson St', 'address2': '...</td>\n",
       "      <td>+12064202801</td>\n",
       "      <td>(206) 420-2801</td>\n",
       "      <td>2959.125193</td>\n",
       "      <td>47.648403</td>\n",
       "      <td>-122.355417</td>\n",
       "    </tr>\n",
       "  </tbody>\n",
       "</table>\n",
       "</div>"
      ],
      "text/plain": [
       "                       id                         alias                name  \\\n",
       "0  smOVPL87Q0XHACrVMPa8qw     8oz-burger-and-co-seattle     8oz Burger & Co   \n",
       "1  xcZZ0Gm81bl8xQfvws231A         uneeda-burger-seattle       Uneeda Burger   \n",
       "2  HIQzFuDJ8yDJbA2hymxXgQ     rain-city-burgers-seattle   Rain City Burgers   \n",
       "3  aSh2Nz2WoQn6m8g256OxcA      red-mill-burgers-seattle    Red Mill Burgers   \n",
       "4  3sJI8y8fr9gWpq8Uw_jJ2w  206-burger-company-seattle-6  206 Burger Company   \n",
       "\n",
       "                                           image_url  is_closed  \\\n",
       "0  https://s3-media3.fl.yelpcdn.com/bphoto/Lnggdy...      False   \n",
       "1  https://s3-media3.fl.yelpcdn.com/bphoto/u0Cbd9...      False   \n",
       "2  https://s3-media2.fl.yelpcdn.com/bphoto/ZRC1QY...      False   \n",
       "3  https://s3-media2.fl.yelpcdn.com/bphoto/kX9Zsn...      False   \n",
       "4  https://s3-media1.fl.yelpcdn.com/bphoto/YXt-oK...      False   \n",
       "\n",
       "                                                 url  review_count  \\\n",
       "0  https://www.yelp.com/biz/8oz-burger-and-co-sea...          1677   \n",
       "1  https://www.yelp.com/biz/uneeda-burger-seattle...          1297   \n",
       "2  https://www.yelp.com/biz/rain-city-burgers-sea...           743   \n",
       "3  https://www.yelp.com/biz/red-mill-burgers-seat...          1325   \n",
       "4  https://www.yelp.com/biz/206-burger-company-se...            36   \n",
       "\n",
       "                                          categories  rating  \\\n",
       "0  [{'alias': 'burgers', 'title': 'Burgers'}, {'a...     4.0   \n",
       "1  [{'alias': 'burgers', 'title': 'Burgers'}, {'a...     4.0   \n",
       "2  [{'alias': 'burgers', 'title': 'Burgers'}, {'a...     4.0   \n",
       "3         [{'alias': 'burgers', 'title': 'Burgers'}]     4.0   \n",
       "4         [{'alias': 'burgers', 'title': 'Burgers'}]     4.5   \n",
       "\n",
       "                                         coordinates        transactions  \\\n",
       "0  {'latitude': 47.61320990365378, 'longitude': -...  [delivery, pickup]   \n",
       "1    {'latitude': 47.65952, 'longitude': -122.34976}  [delivery, pickup]   \n",
       "2  {'latitude': 47.6759439, 'longitude': -122.317...  [delivery, pickup]   \n",
       "3  {'latitude': 47.677847002847, 'longitude': -12...          [delivery]   \n",
       "4  {'latitude': 47.64840314, 'longitude': -122.35...  [delivery, pickup]   \n",
       "\n",
       "  price                                           location         phone  \\\n",
       "0    $$  {'address1': '1401 Broadway', 'address2': None...  +12064665989   \n",
       "1    $$  {'address1': '4302 Fremont Ave N', 'address2':...  +12065472600   \n",
       "2    $$  {'address1': '6501 Roosevelt Way NE', 'address...  +12065253542   \n",
       "3    $$  {'address1': '312 N 67th St', 'address2': '', ...  +12067836362   \n",
       "4   NaN  {'address1': '101 Nickerson St', 'address2': '...  +12064202801   \n",
       "\n",
       "    display_phone     distance   latitude   longitude  \n",
       "0  (206) 466-5989  1737.156220  47.613210 -122.321050  \n",
       "1  (206) 547-2600  3930.479583  47.659520 -122.349760  \n",
       "2  (206) 525-3542  5775.788114  47.675944 -122.317616  \n",
       "3  (206) 783-6362  6004.581729  47.677847 -122.354715  \n",
       "4  (206) 420-2801  2959.125193  47.648403 -122.355417  "
      ]
     },
     "execution_count": 67,
     "metadata": {},
     "output_type": "execute_result"
    }
   ],
   "source": [
    "yelp_df.head()"
   ]
  },
  {
   "cell_type": "code",
   "execution_count": null,
   "metadata": {},
   "outputs": [],
   "source": []
  }
 ],
 "metadata": {
  "kernelspec": {
   "display_name": "Python 3",
   "language": "python",
   "name": "python3"
  },
  "language_info": {
   "codemirror_mode": {
    "name": "ipython",
    "version": 3
   },
   "file_extension": ".py",
   "mimetype": "text/x-python",
   "name": "python",
   "nbconvert_exporter": "python",
   "pygments_lexer": "ipython3",
   "version": "3.8.5"
  },
  "toc": {
   "base_numbering": 1,
   "nav_menu": {},
   "number_sections": true,
   "sideBar": true,
   "skip_h1_title": false,
   "title_cell": "Table of Contents",
   "title_sidebar": "Contents",
   "toc_cell": true,
   "toc_position": {
    "height": "calc(100% - 180px)",
    "left": "10px",
    "top": "150px",
    "width": "384px"
   },
   "toc_section_display": true,
   "toc_window_display": true
  }
 },
 "nbformat": 4,
 "nbformat_minor": 4
}
